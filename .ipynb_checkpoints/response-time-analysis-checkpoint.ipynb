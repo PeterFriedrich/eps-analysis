{
 "cells": [
  {
   "cell_type": "markdown",
   "metadata": {},
   "source": [
    "# EPS Response Times and Dispatch Volume Analysis"
   ]
  },
  {
   "cell_type": "markdown",
   "metadata": {},
   "source": [
    "This dataset is EPS response times and Dispatch Volume in 2019"
   ]
  },
  {
   "cell_type": "markdown",
   "metadata": {},
   "source": [
    "Need to add more background:"
   ]
  },
  {
   "cell_type": "markdown",
   "metadata": {},
   "source": [
    "## Objective"
   ]
  },
  {
   "cell_type": "markdown",
   "metadata": {},
   "source": [
    "This is just a first wave analysis of the Dataset.  Hopefully part of a larger program that can predict police response times and actions (in real time?)."
   ]
  },
  {
   "cell_type": "markdown",
   "metadata": {},
   "source": [
    "### Common Imports"
   ]
  },
  {
   "cell_type": "code",
   "execution_count": 1,
   "metadata": {},
   "outputs": [],
   "source": [
    "import pandas as pd\n",
    "import matplotlib.pyplot as plt\n",
    "import seaborn as sns"
   ]
  },
  {
   "cell_type": "markdown",
   "metadata": {},
   "source": [
    "### Loading in the Dataset"
   ]
  },
  {
   "cell_type": "code",
   "execution_count": 2,
   "metadata": {},
   "outputs": [],
   "source": [
    "path = 'EPS_Response_Times_And_Dispatch_Volume.csv'"
   ]
  },
  {
   "cell_type": "code",
   "execution_count": 3,
   "metadata": {},
   "outputs": [],
   "source": [
    "df = pd.read_csv(path)"
   ]
  },
  {
   "cell_type": "code",
   "execution_count": 4,
   "metadata": {},
   "outputs": [],
   "source": [
    "# fix column name typos\n",
    "new_columns = list(df.columns)\n",
    "\n",
    "for i in range(4,8):\n",
    "    new_columns[i] = 'P' + str(i-2) + ' Response Time Performance'\n",
    "\n",
    "df.columns = new_columns"
   ]
  },
  {
   "cell_type": "code",
   "execution_count": 5,
   "metadata": {},
   "outputs": [
    {
     "data": {
      "text/html": [
       "<div>\n",
       "<style scoped>\n",
       "    .dataframe tbody tr th:only-of-type {\n",
       "        vertical-align: middle;\n",
       "    }\n",
       "\n",
       "    .dataframe tbody tr th {\n",
       "        vertical-align: top;\n",
       "    }\n",
       "\n",
       "    .dataframe thead th {\n",
       "        text-align: right;\n",
       "    }\n",
       "</style>\n",
       "<table border=\"1\" class=\"dataframe\">\n",
       "  <thead>\n",
       "    <tr style=\"text-align: right;\">\n",
       "      <th></th>\n",
       "      <th>Year</th>\n",
       "      <th>Period</th>\n",
       "      <th>Date</th>\n",
       "      <th>P1 Response Time Performance</th>\n",
       "      <th>P2 Response Time Performance</th>\n",
       "      <th>P3 Response Time Performance</th>\n",
       "      <th>P4 Response Time Performance</th>\n",
       "      <th>P5 Response Time Performance</th>\n",
       "      <th>P1 Dispatch Calls</th>\n",
       "      <th>P2 Dispatch Calls</th>\n",
       "      <th>P3 Dispatch Calls</th>\n",
       "      <th>P4 Dispatch Calls</th>\n",
       "      <th>P5 Dispatch Calls</th>\n",
       "      <th>P1-P5 Dispatch Calls</th>\n",
       "    </tr>\n",
       "  </thead>\n",
       "  <tbody>\n",
       "    <tr>\n",
       "      <th>0</th>\n",
       "      <td>2009</td>\n",
       "      <td>2009 Q1</td>\n",
       "      <td>03/31/2009</td>\n",
       "      <td>71.8</td>\n",
       "      <td>90.9</td>\n",
       "      <td>92.6</td>\n",
       "      <td>74.9</td>\n",
       "      <td>85.5</td>\n",
       "      <td>1604</td>\n",
       "      <td>316</td>\n",
       "      <td>3520</td>\n",
       "      <td>10728</td>\n",
       "      <td>13995</td>\n",
       "      <td>30163</td>\n",
       "    </tr>\n",
       "    <tr>\n",
       "      <th>1</th>\n",
       "      <td>2009</td>\n",
       "      <td>2009 Q2</td>\n",
       "      <td>06/30/2009</td>\n",
       "      <td>75.2</td>\n",
       "      <td>97.8</td>\n",
       "      <td>93.5</td>\n",
       "      <td>75.5</td>\n",
       "      <td>82.0</td>\n",
       "      <td>1640</td>\n",
       "      <td>308</td>\n",
       "      <td>4004</td>\n",
       "      <td>12449</td>\n",
       "      <td>17718</td>\n",
       "      <td>36119</td>\n",
       "    </tr>\n",
       "    <tr>\n",
       "      <th>2</th>\n",
       "      <td>2009</td>\n",
       "      <td>2009 Q3</td>\n",
       "      <td>09/30/2009</td>\n",
       "      <td>79.9</td>\n",
       "      <td>91.9</td>\n",
       "      <td>93.4</td>\n",
       "      <td>75.8</td>\n",
       "      <td>81.9</td>\n",
       "      <td>1522</td>\n",
       "      <td>309</td>\n",
       "      <td>4248</td>\n",
       "      <td>13492</td>\n",
       "      <td>19147</td>\n",
       "      <td>38718</td>\n",
       "    </tr>\n",
       "    <tr>\n",
       "      <th>3</th>\n",
       "      <td>2009</td>\n",
       "      <td>2009 Q4</td>\n",
       "      <td>12/31/2009</td>\n",
       "      <td>76.0</td>\n",
       "      <td>94.2</td>\n",
       "      <td>94.0</td>\n",
       "      <td>77.8</td>\n",
       "      <td>83.6</td>\n",
       "      <td>1472</td>\n",
       "      <td>210</td>\n",
       "      <td>3267</td>\n",
       "      <td>11592</td>\n",
       "      <td>14312</td>\n",
       "      <td>30853</td>\n",
       "    </tr>\n",
       "    <tr>\n",
       "      <th>4</th>\n",
       "      <td>2010</td>\n",
       "      <td>2010 Q1</td>\n",
       "      <td>03/31/2010</td>\n",
       "      <td>80.1</td>\n",
       "      <td>97.1</td>\n",
       "      <td>95.8</td>\n",
       "      <td>79.9</td>\n",
       "      <td>85.2</td>\n",
       "      <td>1437</td>\n",
       "      <td>194</td>\n",
       "      <td>3253</td>\n",
       "      <td>11308</td>\n",
       "      <td>13491</td>\n",
       "      <td>29683</td>\n",
       "    </tr>\n",
       "  </tbody>\n",
       "</table>\n",
       "</div>"
      ],
      "text/plain": [
       "   Year   Period        Date  P1 Response Time Performance  \\\n",
       "0  2009  2009 Q1  03/31/2009                          71.8   \n",
       "1  2009  2009 Q2  06/30/2009                          75.2   \n",
       "2  2009  2009 Q3  09/30/2009                          79.9   \n",
       "3  2009  2009 Q4  12/31/2009                          76.0   \n",
       "4  2010  2010 Q1  03/31/2010                          80.1   \n",
       "\n",
       "   P2 Response Time Performance  P3 Response Time Performance  \\\n",
       "0                          90.9                          92.6   \n",
       "1                          97.8                          93.5   \n",
       "2                          91.9                          93.4   \n",
       "3                          94.2                          94.0   \n",
       "4                          97.1                          95.8   \n",
       "\n",
       "   P4 Response Time Performance  P5 Response Time Performance  \\\n",
       "0                          74.9                          85.5   \n",
       "1                          75.5                          82.0   \n",
       "2                          75.8                          81.9   \n",
       "3                          77.8                          83.6   \n",
       "4                          79.9                          85.2   \n",
       "\n",
       "   P1 Dispatch Calls  P2 Dispatch Calls  P3 Dispatch Calls  P4 Dispatch Calls  \\\n",
       "0               1604                316               3520              10728   \n",
       "1               1640                308               4004              12449   \n",
       "2               1522                309               4248              13492   \n",
       "3               1472                210               3267              11592   \n",
       "4               1437                194               3253              11308   \n",
       "\n",
       "   P5 Dispatch Calls  P1-P5 Dispatch Calls  \n",
       "0              13995                 30163  \n",
       "1              17718                 36119  \n",
       "2              19147                 38718  \n",
       "3              14312                 30853  \n",
       "4              13491                 29683  "
      ]
     },
     "execution_count": 5,
     "metadata": {},
     "output_type": "execute_result"
    }
   ],
   "source": [
    "df.head()"
   ]
  },
  {
   "cell_type": "code",
   "execution_count": 6,
   "metadata": {},
   "outputs": [
    {
     "name": "stdout",
     "output_type": "stream",
     "text": [
      "<class 'pandas.core.frame.DataFrame'>\n",
      "RangeIndex: 43 entries, 0 to 42\n",
      "Data columns (total 14 columns):\n",
      "Year                            43 non-null int64\n",
      "Period                          43 non-null object\n",
      "Date                            43 non-null object\n",
      "P1 Response Time Performance    43 non-null float64\n",
      "P2 Response Time Performance    43 non-null float64\n",
      "P3 Response Time Performance    43 non-null float64\n",
      "P4 Response Time Performance    43 non-null float64\n",
      "P5 Response Time Performance    43 non-null float64\n",
      "P1 Dispatch Calls               43 non-null int64\n",
      "P2 Dispatch Calls               43 non-null int64\n",
      "P3 Dispatch Calls               43 non-null int64\n",
      "P4 Dispatch Calls               43 non-null int64\n",
      "P5 Dispatch Calls               43 non-null int64\n",
      "P1-P5 Dispatch Calls            43 non-null int64\n",
      "dtypes: float64(5), int64(7), object(2)\n",
      "memory usage: 4.8+ KB\n"
     ]
    }
   ],
   "source": [
    "df.info()"
   ]
  },
  {
   "cell_type": "code",
   "execution_count": 18,
   "metadata": {},
   "outputs": [
    {
     "ename": "TypeError",
     "evalue": "unhashable type: 'Index'",
     "output_type": "error",
     "traceback": [
      "\u001b[0;31m---------------------------------------------------------------------------\u001b[0m",
      "\u001b[0;31mTypeError\u001b[0m                                 Traceback (most recent call last)",
      "\u001b[0;32m<ipython-input-18-6faac92b959d>\u001b[0m in \u001b[0;36m<module>\u001b[0;34m\u001b[0m\n\u001b[0;32m----> 1\u001b[0;31m \u001b[0msubset\u001b[0m \u001b[0;34m=\u001b[0m \u001b[0mdf\u001b[0m\u001b[0;34m[\u001b[0m\u001b[0;34m'Period'\u001b[0m\u001b[0;34m,\u001b[0m \u001b[0mdf\u001b[0m\u001b[0;34m.\u001b[0m\u001b[0mcolumns\u001b[0m\u001b[0;34m[\u001b[0m\u001b[0;36m3\u001b[0m\u001b[0;34m:\u001b[0m\u001b[0;36m7\u001b[0m\u001b[0;34m]\u001b[0m\u001b[0;34m]\u001b[0m\u001b[0;34m\u001b[0m\u001b[0m\n\u001b[0m",
      "\u001b[0;32m~/anaconda3/envs/py-data/lib/python3.6/site-packages/pandas/core/frame.py\u001b[0m in \u001b[0;36m__getitem__\u001b[0;34m(self, key)\u001b[0m\n\u001b[1;32m   2137\u001b[0m             \u001b[0;32mreturn\u001b[0m \u001b[0mself\u001b[0m\u001b[0;34m.\u001b[0m\u001b[0m_getitem_multilevel\u001b[0m\u001b[0;34m(\u001b[0m\u001b[0mkey\u001b[0m\u001b[0;34m)\u001b[0m\u001b[0;34m\u001b[0m\u001b[0m\n\u001b[1;32m   2138\u001b[0m         \u001b[0;32melse\u001b[0m\u001b[0;34m:\u001b[0m\u001b[0;34m\u001b[0m\u001b[0m\n\u001b[0;32m-> 2139\u001b[0;31m             \u001b[0;32mreturn\u001b[0m \u001b[0mself\u001b[0m\u001b[0;34m.\u001b[0m\u001b[0m_getitem_column\u001b[0m\u001b[0;34m(\u001b[0m\u001b[0mkey\u001b[0m\u001b[0;34m)\u001b[0m\u001b[0;34m\u001b[0m\u001b[0m\n\u001b[0m\u001b[1;32m   2140\u001b[0m \u001b[0;34m\u001b[0m\u001b[0m\n\u001b[1;32m   2141\u001b[0m     \u001b[0;32mdef\u001b[0m \u001b[0m_getitem_column\u001b[0m\u001b[0;34m(\u001b[0m\u001b[0mself\u001b[0m\u001b[0;34m,\u001b[0m \u001b[0mkey\u001b[0m\u001b[0;34m)\u001b[0m\u001b[0;34m:\u001b[0m\u001b[0;34m\u001b[0m\u001b[0m\n",
      "\u001b[0;32m~/anaconda3/envs/py-data/lib/python3.6/site-packages/pandas/core/frame.py\u001b[0m in \u001b[0;36m_getitem_column\u001b[0;34m(self, key)\u001b[0m\n\u001b[1;32m   2144\u001b[0m         \u001b[0;31m# get column\u001b[0m\u001b[0;34m\u001b[0m\u001b[0;34m\u001b[0m\u001b[0m\n\u001b[1;32m   2145\u001b[0m         \u001b[0;32mif\u001b[0m \u001b[0mself\u001b[0m\u001b[0;34m.\u001b[0m\u001b[0mcolumns\u001b[0m\u001b[0;34m.\u001b[0m\u001b[0mis_unique\u001b[0m\u001b[0;34m:\u001b[0m\u001b[0;34m\u001b[0m\u001b[0m\n\u001b[0;32m-> 2146\u001b[0;31m             \u001b[0;32mreturn\u001b[0m \u001b[0mself\u001b[0m\u001b[0;34m.\u001b[0m\u001b[0m_get_item_cache\u001b[0m\u001b[0;34m(\u001b[0m\u001b[0mkey\u001b[0m\u001b[0;34m)\u001b[0m\u001b[0;34m\u001b[0m\u001b[0m\n\u001b[0m\u001b[1;32m   2147\u001b[0m \u001b[0;34m\u001b[0m\u001b[0m\n\u001b[1;32m   2148\u001b[0m         \u001b[0;31m# duplicate columns & possible reduce dimensionality\u001b[0m\u001b[0;34m\u001b[0m\u001b[0;34m\u001b[0m\u001b[0m\n",
      "\u001b[0;32m~/anaconda3/envs/py-data/lib/python3.6/site-packages/pandas/core/generic.py\u001b[0m in \u001b[0;36m_get_item_cache\u001b[0;34m(self, item)\u001b[0m\n\u001b[1;32m   1838\u001b[0m         \u001b[0;34m\"\"\"Return the cached item, item represents a label indexer.\"\"\"\u001b[0m\u001b[0;34m\u001b[0m\u001b[0m\n\u001b[1;32m   1839\u001b[0m         \u001b[0mcache\u001b[0m \u001b[0;34m=\u001b[0m \u001b[0mself\u001b[0m\u001b[0;34m.\u001b[0m\u001b[0m_item_cache\u001b[0m\u001b[0;34m\u001b[0m\u001b[0m\n\u001b[0;32m-> 1840\u001b[0;31m         \u001b[0mres\u001b[0m \u001b[0;34m=\u001b[0m \u001b[0mcache\u001b[0m\u001b[0;34m.\u001b[0m\u001b[0mget\u001b[0m\u001b[0;34m(\u001b[0m\u001b[0mitem\u001b[0m\u001b[0;34m)\u001b[0m\u001b[0;34m\u001b[0m\u001b[0m\n\u001b[0m\u001b[1;32m   1841\u001b[0m         \u001b[0;32mif\u001b[0m \u001b[0mres\u001b[0m \u001b[0;32mis\u001b[0m \u001b[0;32mNone\u001b[0m\u001b[0;34m:\u001b[0m\u001b[0;34m\u001b[0m\u001b[0m\n\u001b[1;32m   1842\u001b[0m             \u001b[0mvalues\u001b[0m \u001b[0;34m=\u001b[0m \u001b[0mself\u001b[0m\u001b[0;34m.\u001b[0m\u001b[0m_data\u001b[0m\u001b[0;34m.\u001b[0m\u001b[0mget\u001b[0m\u001b[0;34m(\u001b[0m\u001b[0mitem\u001b[0m\u001b[0;34m)\u001b[0m\u001b[0;34m\u001b[0m\u001b[0m\n",
      "\u001b[0;32m~/anaconda3/envs/py-data/lib/python3.6/site-packages/pandas/core/indexes/base.py\u001b[0m in \u001b[0;36m__hash__\u001b[0;34m(self)\u001b[0m\n\u001b[1;32m   1719\u001b[0m \u001b[0;34m\u001b[0m\u001b[0m\n\u001b[1;32m   1720\u001b[0m     \u001b[0;32mdef\u001b[0m \u001b[0m__hash__\u001b[0m\u001b[0;34m(\u001b[0m\u001b[0mself\u001b[0m\u001b[0;34m)\u001b[0m\u001b[0;34m:\u001b[0m\u001b[0;34m\u001b[0m\u001b[0m\n\u001b[0;32m-> 1721\u001b[0;31m         \u001b[0;32mraise\u001b[0m \u001b[0mTypeError\u001b[0m\u001b[0;34m(\u001b[0m\u001b[0;34m\"unhashable type: %r\"\u001b[0m \u001b[0;34m%\u001b[0m \u001b[0mtype\u001b[0m\u001b[0;34m(\u001b[0m\u001b[0mself\u001b[0m\u001b[0;34m)\u001b[0m\u001b[0;34m.\u001b[0m\u001b[0m__name__\u001b[0m\u001b[0;34m)\u001b[0m\u001b[0;34m\u001b[0m\u001b[0m\n\u001b[0m\u001b[1;32m   1722\u001b[0m \u001b[0;34m\u001b[0m\u001b[0m\n\u001b[1;32m   1723\u001b[0m     \u001b[0;32mdef\u001b[0m \u001b[0m__setitem__\u001b[0m\u001b[0;34m(\u001b[0m\u001b[0mself\u001b[0m\u001b[0;34m,\u001b[0m \u001b[0mkey\u001b[0m\u001b[0;34m,\u001b[0m \u001b[0mvalue\u001b[0m\u001b[0;34m)\u001b[0m\u001b[0;34m:\u001b[0m\u001b[0;34m\u001b[0m\u001b[0m\n",
      "\u001b[0;31mTypeError\u001b[0m: unhashable type: 'Index'"
     ]
    }
   ],
   "source": [
    "subset = df[df.columns[3:7]]"
   ]
  },
  {
   "cell_type": "code",
   "execution_count": 15,
   "metadata": {},
   "outputs": [
    {
     "data": {
      "text/plain": [
       "Index(['P1 Response Time Performance', 'P2 Response Time Performance',\n",
       "       'P3 Response Time Performance', 'P4 Response Time Performance'],\n",
       "      dtype='object')"
      ]
     },
     "execution_count": 15,
     "metadata": {},
     "output_type": "execute_result"
    }
   ],
   "source": [
    "df.columns[3:7]"
   ]
  },
  {
   "cell_type": "code",
   "execution_count": null,
   "metadata": {},
   "outputs": [],
   "source": [
    "df['P1 Response Time Performance', 'P2 Repon'.plot(figsize(12, 10), grid=True, title)"
   ]
  },
  {
   "cell_type": "code",
   "execution_count": null,
   "metadata": {},
   "outputs": [],
   "source": [
    "df.head()"
   ]
  },
  {
   "cell_type": "code",
   "execution_count": null,
   "metadata": {},
   "outputs": [],
   "source": [
    "df.head()"
   ]
  }
 ],
 "metadata": {
  "kernelspec": {
   "display_name": "Python3 (py-data)",
   "language": "python",
   "name": "py-data"
  },
  "language_info": {
   "codemirror_mode": {
    "name": "ipython",
    "version": 3
   },
   "file_extension": ".py",
   "mimetype": "text/x-python",
   "name": "python",
   "nbconvert_exporter": "python",
   "pygments_lexer": "ipython3",
   "version": "3.6.6"
  }
 },
 "nbformat": 4,
 "nbformat_minor": 2
}
